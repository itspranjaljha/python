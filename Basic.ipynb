{
 "cells": [
  {
   "cell_type": "markdown",
   "metadata": {},
   "source": [
    "# This is my basic python practice"
   ]
  },
  {
   "cell_type": "markdown",
   "metadata": {},
   "source": [
    "## In this we will demostrate the shallow copy\n",
    "* Shallow copy is used by python (default mode)\n",
    "* You can use this to make new references instantaneously "
   ]
  },
  {
   "cell_type": "code",
   "execution_count": 1,
   "metadata": {},
   "outputs": [
    {
     "name": "stdout",
     "output_type": "stream",
     "text": [
      "List 2 is just been copied from list1 having values --> [1, 2, 3]\n",
      "We have added in list2 --> 4, output of list1 --> [1, 2, 3, 4]\n",
      "We have added in list2 --> 4, output of list1 --> [1, 2, 3, 4]\n"
     ]
    }
   ],
   "source": [
    "# Defining a list here\n",
    "list1 = [1,2,3]\n",
    "\n",
    "#Shallow copy which is used by python in default mode\n",
    "list2 = list1\n",
    "print(\"List 2 is just been copied from list1 having values --> {new_list}\".format(new_list=list2))\n",
    "# Now we will see that what happens when we append new element in list2\n",
    "list2.append(4)\n",
    "\n",
    "#Let's check the output of both list\n",
    "print(\"We have added in list2 --> 4, output of list1 --> {list1_after}\".format(list1_after=list1))\n",
    "print(\"We have added in list2 --> 4, output of list1 --> {list2_after}\".format(list2_after=list2))"
   ]
  },
  {
   "cell_type": "markdown",
   "metadata": {},
   "source": [
    "## Now let's perform some more operations\n",
    "\n",
    "* Now we will try to change the element of object list2"
   ]
  },
  {
   "cell_type": "code",
   "execution_count": 2,
   "metadata": {},
   "outputs": [
    {
     "name": "stdout",
     "output_type": "stream",
     "text": [
      "We have replaced in list2 --> 3rd item, output of list1 --> [1, 2, 13]\n",
      "We have replaced in list2 --> 3rd item, output of list2 --> [1, 2, 13]\n",
      "We have replaced in list2 --> 3rd item, output of list1 --> [1, 2]\n",
      "We have replaced in list2 --> 3rd item, output of list2 --> [1, 2]\n",
      "We have replaced in list2 --> 3rd item, output of list1 --> [2]\n",
      "We have replaced in list2 --> 3rd item, output of list2 --> [2]\n"
     ]
    }
   ],
   "source": [
    "# Defining a list here\n",
    "list1 = [1,2,3]\n",
    "\n",
    "#Shallow copy which is used by python in default mode\n",
    "list2 = list1\n",
    "\n",
    "# Replacing the third element\n",
    "list2[2] = 13\n",
    "\n",
    "# Now let's check the both lists\n",
    "print (\"We have replaced in list2 --> 3rd item, output of list1 --> {list1_after}\".format(list1_after = list1))\n",
    "print (\"We have replaced in list2 --> 3rd item, output of list2 --> {list1_after}\".format(list1_after=list2))\n",
    "# If both list are equal then it is a shallow copy\n",
    "\n",
    "# Some more operations\n",
    "list1.pop()\n",
    "\n",
    "# Now let's check the both lists\n",
    "print (\"We have replaced in list2 --> 3rd item, output of list1 --> {list1_after}\".format(list1_after = list1))\n",
    "print (\"We have replaced in list2 --> 3rd item, output of list2 --> {list1_after}\".format(list1_after=list2))\n",
    "\n",
    "del(list1[0])\n",
    "# Now let's check the both lists\n",
    "print (\"We have replaced in list2 --> 3rd item, output of list1 --> {list1_after}\".format(list1_after = list1))\n",
    "print (\"We have replaced in list2 --> 3rd item, output of list2 --> {list1_after}\".format(list1_after=list2))"
   ]
  },
  {
   "cell_type": "markdown",
   "metadata": {},
   "source": [
    "## Now we will try to implement deepcopy and see the difference"
   ]
  },
  {
   "cell_type": "markdown",
   "metadata": {},
   "source": [
    "* we will make two list using deepcopy and perform the same operations to check the differences\n",
    "* This time we will see list will not effect each other"
   ]
  },
  {
   "cell_type": "code",
   "execution_count": 3,
   "metadata": {},
   "outputs": [
    {
     "name": "stdout",
     "output_type": "stream",
     "text": [
      "We have replaced in list2 --> 3rd item, output of list1 --> [1, 2, 3, 4]\n",
      "We have replaced in list2 --> 3rd item, output of list2 --> [1, 2, 13, 4]\n",
      "We have replaced in list2 --> 3rd item, output of list1 --> [1, 2, 3]\n",
      "We have replaced in list2 --> 3rd item, output of list2 --> [1, 2, 13, 4]\n",
      "We have replaced in list2 --> 3rd item, output of list1 --> [2, 3]\n",
      "We have replaced in list2 --> 3rd item, output of list2 --> [1, 2, 13, 4]\n"
     ]
    }
   ],
   "source": [
    "# We are importing deecopy class from copy module\n",
    "from copy import deepcopy\n",
    "\n",
    "# Defining a list here\n",
    "list1 = [1,2,3,4]\n",
    "\n",
    "# Deep copy which is used by python in default mode\n",
    "list2 = deepcopy(list1)\n",
    "\n",
    "# Replacing the third element\n",
    "list2[2] = 13\n",
    "\n",
    "# Now let's check the both lists\n",
    "print (\"We have replaced in list2 --> 3rd item, output of list1 --> {list1_after}\".format(list1_after = list1))\n",
    "print (\"We have replaced in list2 --> 3rd item, output of list2 --> {list1_after}\".format(list1_after=list2))\n",
    "# If both list are equal then it is a shallow copy\n",
    "\n",
    "# Some more operations\n",
    "list1.pop()\n",
    "\n",
    "# Now let's check the both lists\n",
    "print (\"We have replaced in list2 --> 3rd item, output of list1 --> {list1_after}\".format(list1_after = list1))\n",
    "print (\"We have replaced in list2 --> 3rd item, output of list2 --> {list1_after}\".format(list1_after=list2))\n",
    "\n",
    "del(list1[0])\n",
    "# Now let's check the both lists\n",
    "print (\"We have replaced in list2 --> 3rd item, output of list1 --> {list1_after}\".format(list1_after = list1))\n",
    "print (\"We have replaced in list2 --> 3rd item, output of list2 --> {list1_after}\".format(list1_after=list2))"
   ]
  },
  {
   "cell_type": "markdown",
   "metadata": {},
   "source": [
    "## Demostrating package, modules and functions\n",
    "\n",
    "* We are using AmitMath package\n",
    "\n",
    "```\n",
    "def sum(num1, num2):\n",
    "    return num1 + num2\n",
    "\n",
    "def multias(num1, num2):\n",
    "    return num1 * num2\n",
    "\n",
    "def modas(num1, num2):\n",
    "    return num1 % num2\n",
    "```"
   ]
  },
  {
   "cell_type": "code",
   "execution_count": 4,
   "metadata": {},
   "outputs": [],
   "source": [
    "# We are importing functions from AmitMatch package and mathdas module\n",
    "from AmitMath.mathas import sum, multias, modas"
   ]
  },
  {
   "cell_type": "code",
   "execution_count": 5,
   "metadata": {},
   "outputs": [
    {
     "name": "stdout",
     "output_type": "stream",
     "text": [
      "27\n",
      "120\n",
      "1\n"
     ]
    }
   ],
   "source": [
    "# Now we can use the above functions\n",
    "# Sum \n",
    "print (sum(13,14))\n",
    "\n",
    "# Multi\n",
    "print(multias(12,10))\n",
    "\n",
    "# Modas\n",
    "print (modas (5, 2))"
   ]
  },
  {
   "cell_type": "code",
   "execution_count": null,
   "metadata": {},
   "outputs": [],
   "source": []
  }
 ],
 "metadata": {
  "kernelspec": {
   "display_name": "Python 3",
   "language": "python",
   "name": "python3"
  },
  "language_info": {
   "codemirror_mode": {
    "name": "ipython",
    "version": 3
   },
   "file_extension": ".py",
   "mimetype": "text/x-python",
   "name": "python",
   "nbconvert_exporter": "python",
   "pygments_lexer": "ipython3",
   "version": "3.5.2"
  }
 },
 "nbformat": 4,
 "nbformat_minor": 2
}
